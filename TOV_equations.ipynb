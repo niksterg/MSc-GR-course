{
 "cells": [
  {
   "cell_type": "markdown",
   "metadata": {},
   "source": [
    "# Derivation of Tolman-Oppenheimer-Volkoff equations\n",
    "\n",
    "N. Stergioulas, Aristotle University of Thessaloniki\n",
    "\n",
    "Based on an [example](https://nbviewer.jupyter.org/github/sagemanifolds/SageManifolds/blob/master/Worksheets/v1.3/SM_TOV.ipynb) provided by [SageManifolds](https://sagemanifolds.obspm.fr/examples.html). The computations require the installation of [SageManifolds](https://sagemanifolds.obspm.fr) (as included in SageMath 8.6).\n",
    "\n",
    "###### Content provided under a Creative Commons Attribution license, [CC BY-NC-SA 4.0](https://creativecommons.org/licenses/by-nc-sa/4.0/); code under [GNU GPLv3 License](https://choosealicense.com/licenses/gpl-3.0/). (c)2018 [Nikolaos Stergioulas](http://www.astro.auth.gr/~niksterg/)"
   ]
  },
  {
   "cell_type": "code",
   "execution_count": 1,
   "metadata": {},
   "outputs": [
    {
     "data": {
      "text/plain": [
       "'SageMath version 8.6, Release Date: 2019-01-15'"
      ]
     },
     "execution_count": 1,
     "metadata": {},
     "output_type": "execute_result"
    }
   ],
   "source": [
    "version()"
   ]
  },
  {
   "cell_type": "markdown",
   "metadata": {},
   "source": [
    "Display mathematical objects using LaTeX rendering:"
   ]
  },
  {
   "cell_type": "code",
   "execution_count": 2,
   "metadata": {},
   "outputs": [],
   "source": [
    "%display latex"
   ]
  },
  {
   "cell_type": "markdown",
   "metadata": {},
   "source": [
    "### Spacetime manifold $M$\n"
   ]
  },
  {
   "cell_type": "code",
   "execution_count": 3,
   "metadata": {},
   "outputs": [
    {
     "name": "stdout",
     "output_type": "stream",
     "text": [
      "4-dimensional differentiable manifold M\n"
     ]
    }
   ],
   "source": [
    "M = Manifold(4, 'M')\n",
    "print(M)"
   ]
  },
  {
   "cell_type": "markdown",
   "metadata": {},
   "source": [
    "### Spherical coordinates $(t,r,\\theta,\\phi)$\n",
    "\n",
    "We will work in Schwarzschild-like coordinates."
   ]
  },
  {
   "cell_type": "code",
   "execution_count": 4,
   "metadata": {},
   "outputs": [
    {
     "data": {
      "text/html": [
       "<html><script type=\"math/tex; mode=display\">\\newcommand{\\Bold}[1]{\\mathbf{#1}}\\left(M,(t, r, {\\theta}, {\\phi})\\right)</script></html>"
      ],
      "text/plain": [
       "Chart (M, (t, r, th, ph))"
      ]
     },
     "execution_count": 4,
     "metadata": {},
     "output_type": "execute_result"
    }
   ],
   "source": [
    "X.<t,r,th,ph> = M.chart(r't r:(0,+oo) th:(0,pi):\\theta ph:(0,2*pi):\\phi')\n",
    "X"
   ]
  },
  {
   "cell_type": "markdown",
   "metadata": {},
   "source": [
    "### Metric tensor $g$\n",
    "\n",
    "For a static, spherically symmetric, asymptotically flat spacetime, the metric can be writte in the following form"
   ]
  },
  {
   "cell_type": "code",
   "execution_count": 5,
   "metadata": {},
   "outputs": [
    {
     "data": {
      "text/html": [
       "<html><script type=\"math/tex; mode=display\">\\newcommand{\\Bold}[1]{\\mathbf{#1}}g = -e^{\\left(2 \\, \\nu\\left(r\\right)\\right)} \\mathrm{d} t\\otimes \\mathrm{d} t + \\left( -\\frac{1}{\\frac{2 \\, m\\left(r\\right)}{r} - 1} \\right) \\mathrm{d} r\\otimes \\mathrm{d} r + r^{2} \\mathrm{d} {\\theta}\\otimes \\mathrm{d} {\\theta} + r^{2} \\sin\\left({\\theta}\\right)^{2} \\mathrm{d} {\\phi}\\otimes \\mathrm{d} {\\phi}</script></html>"
      ],
      "text/plain": [
       "g = -e^(2*nu(r)) dt*dt - 1/(2*m(r)/r - 1) dr*dr + r^2 dth*dth + r^2*sin(th)^2 dph*dph"
      ]
     },
     "execution_count": 5,
     "metadata": {},
     "output_type": "execute_result"
    }
   ],
   "source": [
    "g = M.lorentzian_metric('g')\n",
    "nu = function('nu')\n",
    "m = function('m')\n",
    "g[0,0] = -exp(2*nu(r))\n",
    "g[1,1] = 1/(1-2*m(r)/r)\n",
    "g[2,2] = r^2\n",
    "g[3,3] = (r*sin(th))^2\n",
    "g.display()"
   ]
  },
  {
   "cell_type": "markdown",
   "metadata": {},
   "source": [
    "Display the metric components as a list:"
   ]
  },
  {
   "cell_type": "code",
   "execution_count": 6,
   "metadata": {},
   "outputs": [
    {
     "data": {
      "text/html": [
       "<html><script type=\"math/tex; mode=display\">\\newcommand{\\Bold}[1]{\\mathbf{#1}}\\begin{array}{lcl} g_{ \\, t \\, t }^{ \\phantom{\\, t}\\phantom{\\, t} } & = & -e^{\\left(2 \\, \\nu\\left(r\\right)\\right)} \\\\ g_{ \\, r \\, r }^{ \\phantom{\\, r}\\phantom{\\, r} } & = & -\\frac{1}{\\frac{2 \\, m\\left(r\\right)}{r} - 1} \\\\ g_{ \\, {\\theta} \\, {\\theta} }^{ \\phantom{\\, {\\theta}}\\phantom{\\, {\\theta}} } & = & r^{2} \\\\ g_{ \\, {\\phi} \\, {\\phi} }^{ \\phantom{\\, {\\phi}}\\phantom{\\, {\\phi}} } & = & r^{2} \\sin\\left({\\theta}\\right)^{2} \\end{array}</script></html>"
      ],
      "text/plain": [
       "g_t,t = -e^(2*nu(r)) \n",
       "g_r,r = -1/(2*m(r)/r - 1) \n",
       "g_th,th = r^2 \n",
       "g_ph,ph = r^2*sin(th)^2 "
      ]
     },
     "execution_count": 6,
     "metadata": {},
     "output_type": "execute_result"
    }
   ],
   "source": [
    "g.display_comp()"
   ]
  },
  {
   "cell_type": "markdown",
   "metadata": {},
   "source": [
    "Levi-Civita connection $\\nabla$ associated with the Lorentzian metric $g$ on the 4-dimensional differentiable manifold $M$"
   ]
  },
  {
   "cell_type": "code",
   "execution_count": 7,
   "metadata": {},
   "outputs": [
    {
     "data": {
      "text/html": [
       "<html><script type=\"math/tex; mode=display\">\\newcommand{\\Bold}[1]{\\mathbf{#1}}\\begin{array}{lcl} \\Gamma_{ \\phantom{\\, t} \\, t \\, r }^{ \\, t \\phantom{\\, t} \\phantom{\\, r} } & = & \\frac{\\partial\\,\\nu}{\\partial r} \\\\ \\Gamma_{ \\phantom{\\, t} \\, r \\, t }^{ \\, t \\phantom{\\, r} \\phantom{\\, t} } & = & \\frac{\\partial\\,\\nu}{\\partial r} \\\\ \\Gamma_{ \\phantom{\\, r} \\, t \\, t }^{ \\, r \\phantom{\\, t} \\phantom{\\, t} } & = & \\frac{{\\left(r e^{\\left(2 \\, \\nu\\left(r\\right)\\right)} - 2 \\, e^{\\left(2 \\, \\nu\\left(r\\right)\\right)} m\\left(r\\right)\\right)} \\frac{\\partial\\,\\nu}{\\partial r}}{r} \\\\ \\Gamma_{ \\phantom{\\, r} \\, r \\, r }^{ \\, r \\phantom{\\, r} \\phantom{\\, r} } & = & \\frac{r \\frac{\\partial\\,m}{\\partial r} - m\\left(r\\right)}{r^{2} - 2 \\, r m\\left(r\\right)} \\\\ \\Gamma_{ \\phantom{\\, r} \\, {\\theta} \\, {\\theta} }^{ \\, r \\phantom{\\, {\\theta}} \\phantom{\\, {\\theta}} } & = & -r + 2 \\, m\\left(r\\right) \\\\ \\Gamma_{ \\phantom{\\, r} \\, {\\phi} \\, {\\phi} }^{ \\, r \\phantom{\\, {\\phi}} \\phantom{\\, {\\phi}} } & = & -{\\left(r - 2 \\, m\\left(r\\right)\\right)} \\sin\\left({\\theta}\\right)^{2} \\\\ \\Gamma_{ \\phantom{\\, {\\theta}} \\, r \\, {\\theta} }^{ \\, {\\theta} \\phantom{\\, r} \\phantom{\\, {\\theta}} } & = & \\frac{1}{r} \\\\ \\Gamma_{ \\phantom{\\, {\\theta}} \\, {\\theta} \\, r }^{ \\, {\\theta} \\phantom{\\, {\\theta}} \\phantom{\\, r} } & = & \\frac{1}{r} \\\\ \\Gamma_{ \\phantom{\\, {\\theta}} \\, {\\phi} \\, {\\phi} }^{ \\, {\\theta} \\phantom{\\, {\\phi}} \\phantom{\\, {\\phi}} } & = & -\\cos\\left({\\theta}\\right) \\sin\\left({\\theta}\\right) \\\\ \\Gamma_{ \\phantom{\\, {\\phi}} \\, r \\, {\\phi} }^{ \\, {\\phi} \\phantom{\\, r} \\phantom{\\, {\\phi}} } & = & \\frac{1}{r} \\\\ \\Gamma_{ \\phantom{\\, {\\phi}} \\, {\\theta} \\, {\\phi} }^{ \\, {\\phi} \\phantom{\\, {\\theta}} \\phantom{\\, {\\phi}} } & = & \\frac{\\cos\\left({\\theta}\\right)}{\\sin\\left({\\theta}\\right)} \\\\ \\Gamma_{ \\phantom{\\, {\\phi}} \\, {\\phi} \\, r }^{ \\, {\\phi} \\phantom{\\, {\\phi}} \\phantom{\\, r} } & = & \\frac{1}{r} \\\\ \\Gamma_{ \\phantom{\\, {\\phi}} \\, {\\phi} \\, {\\theta} }^{ \\, {\\phi} \\phantom{\\, {\\phi}} \\phantom{\\, {\\theta}} } & = & \\frac{\\cos\\left({\\theta}\\right)}{\\sin\\left({\\theta}\\right)} \\end{array}</script></html>"
      ],
      "text/plain": [
       "Gam^t_t,r = d(nu)/dr \n",
       "Gam^t_r,t = d(nu)/dr \n",
       "Gam^r_t,t = (r*e^(2*nu(r)) - 2*e^(2*nu(r))*m(r))*d(nu)/dr/r \n",
       "Gam^r_r,r = (r*d(m)/dr - m(r))/(r^2 - 2*r*m(r)) \n",
       "Gam^r_th,th = -r + 2*m(r) \n",
       "Gam^r_ph,ph = -(r - 2*m(r))*sin(th)^2 \n",
       "Gam^th_r,th = 1/r \n",
       "Gam^th_th,r = 1/r \n",
       "Gam^th_ph,ph = -cos(th)*sin(th) \n",
       "Gam^ph_r,ph = 1/r \n",
       "Gam^ph_th,ph = cos(th)/sin(th) \n",
       "Gam^ph_ph,r = 1/r \n",
       "Gam^ph_ph,th = cos(th)/sin(th) "
      ]
     },
     "execution_count": 7,
     "metadata": {},
     "output_type": "execute_result"
    }
   ],
   "source": [
    "nabla = g.connection()\n",
    "nabla.display()"
   ]
  },
  {
   "cell_type": "markdown",
   "metadata": {},
   "source": [
    "## Ricci tensor"
   ]
  },
  {
   "cell_type": "code",
   "execution_count": 8,
   "metadata": {},
   "outputs": [
    {
     "data": {
      "text/html": [
       "<html><script type=\"math/tex; mode=display\">\\newcommand{\\Bold}[1]{\\mathbf{#1}}\\begin{array}{lcl} \\mathrm{Ric}\\left(g\\right)_{ \\, t \\, t }^{ \\phantom{\\, t}\\phantom{\\, t} } & = & \\frac{{\\left(r^{2} e^{\\left(2 \\, \\nu\\left(r\\right)\\right)} - 2 \\, r e^{\\left(2 \\, \\nu\\left(r\\right)\\right)} m\\left(r\\right)\\right)} \\left(\\frac{\\partial\\,\\nu}{\\partial r}\\right)^{2} - {\\left(r e^{\\left(2 \\, \\nu\\left(r\\right)\\right)} \\frac{\\partial\\,m}{\\partial r} - 2 \\, r e^{\\left(2 \\, \\nu\\left(r\\right)\\right)} + 3 \\, e^{\\left(2 \\, \\nu\\left(r\\right)\\right)} m\\left(r\\right)\\right)} \\frac{\\partial\\,\\nu}{\\partial r} + {\\left(r^{2} e^{\\left(2 \\, \\nu\\left(r\\right)\\right)} - 2 \\, r e^{\\left(2 \\, \\nu\\left(r\\right)\\right)} m\\left(r\\right)\\right)} \\frac{\\partial^2\\,\\nu}{\\partial r ^ 2}}{r^{2}} \\\\ \\mathrm{Ric}\\left(g\\right)_{ \\, r \\, r }^{ \\phantom{\\, r}\\phantom{\\, r} } & = & -\\frac{{\\left(r^{3} - 2 \\, r^{2} m\\left(r\\right)\\right)} \\left(\\frac{\\partial\\,\\nu}{\\partial r}\\right)^{2} - 2 \\, r \\frac{\\partial\\,m}{\\partial r} - {\\left(r^{2} \\frac{\\partial\\,m}{\\partial r} - r m\\left(r\\right)\\right)} \\frac{\\partial\\,\\nu}{\\partial r} + {\\left(r^{3} - 2 \\, r^{2} m\\left(r\\right)\\right)} \\frac{\\partial^2\\,\\nu}{\\partial r ^ 2} + 2 \\, m\\left(r\\right)}{r^{3} - 2 \\, r^{2} m\\left(r\\right)} \\\\ \\mathrm{Ric}\\left(g\\right)_{ \\, {\\theta} \\, {\\theta} }^{ \\phantom{\\, {\\theta}}\\phantom{\\, {\\theta}} } & = & \\frac{r \\frac{\\partial\\,m}{\\partial r} - {\\left(r^{2} - 2 \\, r m\\left(r\\right)\\right)} \\frac{\\partial\\,\\nu}{\\partial r} + m\\left(r\\right)}{r} \\\\ \\mathrm{Ric}\\left(g\\right)_{ \\, {\\phi} \\, {\\phi} }^{ \\phantom{\\, {\\phi}}\\phantom{\\, {\\phi}} } & = & \\frac{{\\left(r \\frac{\\partial\\,m}{\\partial r} - {\\left(r^{2} - 2 \\, r m\\left(r\\right)\\right)} \\frac{\\partial\\,\\nu}{\\partial r} + m\\left(r\\right)\\right)} \\sin\\left({\\theta}\\right)^{2}}{r} \\end{array}</script></html>"
      ],
      "text/plain": [
       "Ric(g)_t,t = ((r^2*e^(2*nu(r)) - 2*r*e^(2*nu(r))*m(r))*(d(nu)/dr)^2 - (r*e^(2*nu(r))*d(m)/dr - 2*r*e^(2*nu(r)) + 3*e^(2*nu(r))*m(r))*d(nu)/dr + (r^2*e^(2*nu(r)) - 2*r*e^(2*nu(r))*m(r))*d^2(nu)/dr^2)/r^2 \n",
       "Ric(g)_r,r = -((r^3 - 2*r^2*m(r))*(d(nu)/dr)^2 - 2*r*d(m)/dr - (r^2*d(m)/dr - r*m(r))*d(nu)/dr + (r^3 - 2*r^2*m(r))*d^2(nu)/dr^2 + 2*m(r))/(r^3 - 2*r^2*m(r)) \n",
       "Ric(g)_th,th = (r*d(m)/dr - (r^2 - 2*r*m(r))*d(nu)/dr + m(r))/r \n",
       "Ric(g)_ph,ph = (r*d(m)/dr - (r^2 - 2*r*m(r))*d(nu)/dr + m(r))*sin(th)^2/r "
      ]
     },
     "execution_count": 8,
     "metadata": {},
     "output_type": "execute_result"
    }
   ],
   "source": [
    "Ric = g.ricci()\n",
    "Ric.display_comp()"
   ]
  },
  {
   "cell_type": "markdown",
   "metadata": {},
   "source": [
    "### Ricci scalar"
   ]
  },
  {
   "cell_type": "code",
   "execution_count": 9,
   "metadata": {},
   "outputs": [
    {
     "data": {
      "text/html": [
       "<html><script type=\"math/tex; mode=display\">\\newcommand{\\Bold}[1]{\\mathbf{#1}}\\begin{array}{llcl} \\mathrm{r}\\left(g\\right):& M & \\longrightarrow & \\mathbb{R} \\\\ & \\left(t, r, {\\theta}, {\\phi}\\right) & \\longmapsto & -\\frac{2 \\, {\\left({\\left(r^{2} - 2 \\, r m\\left(r\\right)\\right)} \\left(\\frac{\\partial\\,\\nu}{\\partial r}\\right)^{2} - {\\left(r \\frac{\\partial\\,m}{\\partial r} - 2 \\, r + 3 \\, m\\left(r\\right)\\right)} \\frac{\\partial\\,\\nu}{\\partial r} + {\\left(r^{2} - 2 \\, r m\\left(r\\right)\\right)} \\frac{\\partial^2\\,\\nu}{\\partial r ^ 2} - 2 \\, \\frac{\\partial\\,m}{\\partial r}\\right)}}{r^{2}} \\end{array}</script></html>"
      ],
      "text/plain": [
       "r(g): M --> R\n",
       "   (t, r, th, ph) |--> -2*((r^2 - 2*r*m(r))*(d(nu)/dr)^2 - (r*d(m)/dr - 2*r + 3*m(r))*d(nu)/dr + (r^2 - 2*r*m(r))*d^2(nu)/dr^2 - 2*d(m)/dr)/r^2"
      ]
     },
     "execution_count": 9,
     "metadata": {},
     "output_type": "execute_result"
    }
   ],
   "source": [
    "g.ricci_scalar().display()"
   ]
  },
  {
   "cell_type": "markdown",
   "metadata": {},
   "source": [
    "### Einstein tensor"
   ]
  },
  {
   "cell_type": "markdown",
   "metadata": {},
   "source": [
    "$$ G_{ab} := R_{ab} - \\frac{1}{2} R \\, g_{ab},$$"
   ]
  },
  {
   "cell_type": "code",
   "execution_count": 10,
   "metadata": {},
   "outputs": [
    {
     "data": {
      "text/html": [
       "<html><script type=\"math/tex; mode=display\">\\newcommand{\\Bold}[1]{\\mathbf{#1}}\\begin{array}{lcl} G_{ \\, t \\, t }^{ \\phantom{\\, t}\\phantom{\\, t} } & = & \\frac{2 \\, e^{\\left(2 \\, \\nu\\left(r\\right)\\right)} \\frac{\\partial\\,m}{\\partial r}}{r^{2}} \\\\ G_{ \\, r \\, r }^{ \\phantom{\\, r}\\phantom{\\, r} } & = & \\frac{2 \\, {\\left({\\left(r^{2} - 2 \\, r m\\left(r\\right)\\right)} \\frac{\\partial\\,\\nu}{\\partial r} - m\\left(r\\right)\\right)}}{r^{3} - 2 \\, r^{2} m\\left(r\\right)} \\\\ G_{ \\, {\\theta} \\, {\\theta} }^{ \\phantom{\\, {\\theta}}\\phantom{\\, {\\theta}} } & = & \\frac{{\\left(r^{3} - 2 \\, r^{2} m\\left(r\\right)\\right)} \\left(\\frac{\\partial\\,\\nu}{\\partial r}\\right)^{2} - r \\frac{\\partial\\,m}{\\partial r} - {\\left(r^{2} \\frac{\\partial\\,m}{\\partial r} - r^{2} + r m\\left(r\\right)\\right)} \\frac{\\partial\\,\\nu}{\\partial r} + {\\left(r^{3} - 2 \\, r^{2} m\\left(r\\right)\\right)} \\frac{\\partial^2\\,\\nu}{\\partial r ^ 2} + m\\left(r\\right)}{r} \\\\ G_{ \\, {\\phi} \\, {\\phi} }^{ \\phantom{\\, {\\phi}}\\phantom{\\, {\\phi}} } & = & \\frac{{\\left({\\left(r^{3} - 2 \\, r^{2} m\\left(r\\right)\\right)} \\left(\\frac{\\partial\\,\\nu}{\\partial r}\\right)^{2} - r \\frac{\\partial\\,m}{\\partial r} - {\\left(r^{2} \\frac{\\partial\\,m}{\\partial r} - r^{2} + r m\\left(r\\right)\\right)} \\frac{\\partial\\,\\nu}{\\partial r} + {\\left(r^{3} - 2 \\, r^{2} m\\left(r\\right)\\right)} \\frac{\\partial^2\\,\\nu}{\\partial r ^ 2} + m\\left(r\\right)\\right)} \\sin\\left({\\theta}\\right)^{2}}{r} \\end{array}</script></html>"
      ],
      "text/plain": [
       "G_t,t = 2*e^(2*nu(r))*d(m)/dr/r^2 \n",
       "G_r,r = 2*((r^2 - 2*r*m(r))*d(nu)/dr - m(r))/(r^3 - 2*r^2*m(r)) \n",
       "G_th,th = ((r^3 - 2*r^2*m(r))*(d(nu)/dr)^2 - r*d(m)/dr - (r^2*d(m)/dr - r^2 + r*m(r))*d(nu)/dr + (r^3 - 2*r^2*m(r))*d^2(nu)/dr^2 + m(r))/r \n",
       "G_ph,ph = ((r^3 - 2*r^2*m(r))*(d(nu)/dr)^2 - r*d(m)/dr - (r^2*d(m)/dr - r^2 + r*m(r))*d(nu)/dr + (r^3 - 2*r^2*m(r))*d^2(nu)/dr^2 + m(r))*sin(th)^2/r "
      ]
     },
     "execution_count": 10,
     "metadata": {},
     "output_type": "execute_result"
    }
   ],
   "source": [
    "G = Ric - 1/2*g.ricci_scalar() * g\n",
    "G.set_name('G')\n",
    "G.display_comp()"
   ]
  },
  {
   "cell_type": "markdown",
   "metadata": {},
   "source": [
    "### Fluid 4-velocity"
   ]
  },
  {
   "cell_type": "code",
   "execution_count": 11,
   "metadata": {},
   "outputs": [
    {
     "data": {
      "text/html": [
       "<html><script type=\"math/tex; mode=display\">\\newcommand{\\Bold}[1]{\\mathbf{#1}}\\left[e^{\\left(-\\nu\\left(r\\right)\\right)}, 0, 0, 0\\right]</script></html>"
      ],
      "text/plain": [
       "[e^(-nu(r)), 0, 0, 0]"
      ]
     },
     "execution_count": 11,
     "metadata": {},
     "output_type": "execute_result"
    }
   ],
   "source": [
    "u = M.vector_field('u')\n",
    "u[0] = exp(-nu(r))\n",
    "u[:]"
   ]
  },
  {
   "cell_type": "markdown",
   "metadata": {},
   "source": [
    "Covariant form:"
   ]
  },
  {
   "cell_type": "code",
   "execution_count": 12,
   "metadata": {},
   "outputs": [
    {
     "data": {
      "text/html": [
       "<html><script type=\"math/tex; mode=display\">\\newcommand{\\Bold}[1]{\\mathbf{#1}}\\left[-e^{\\nu\\left(r\\right)}, 0, 0, 0\\right]</script></html>"
      ],
      "text/plain": [
       "[-e^nu(r), 0, 0, 0]"
      ]
     },
     "execution_count": 12,
     "metadata": {},
     "output_type": "execute_result"
    }
   ],
   "source": [
    "u_down = u.down(g)\n",
    "u_down[:]"
   ]
  },
  {
   "cell_type": "markdown",
   "metadata": {},
   "source": [
    "### Stress-energy tensor \n",
    "$$ T_{ab} = (\\epsilon + p) u_a u_b + p \\, g_{ab},$$"
   ]
  },
  {
   "cell_type": "code",
   "execution_count": 13,
   "metadata": {},
   "outputs": [
    {
     "data": {
      "text/html": [
       "<html><script type=\"math/tex; mode=display\">\\newcommand{\\Bold}[1]{\\mathbf{#1}}T = \\epsilon\\left(r\\right) e^{\\left(2 \\, \\nu\\left(r\\right)\\right)} \\mathrm{d} t\\otimes \\mathrm{d} t + \\left( \\frac{r p\\left(r\\right)}{r - 2 \\, m\\left(r\\right)} \\right) \\mathrm{d} r\\otimes \\mathrm{d} r + r^{2} p\\left(r\\right) \\mathrm{d} {\\theta}\\otimes \\mathrm{d} {\\theta} + r^{2} p\\left(r\\right) \\sin\\left({\\theta}\\right)^{2} \\mathrm{d} {\\phi}\\otimes \\mathrm{d} {\\phi}</script></html>"
      ],
      "text/plain": [
       "T = epsilon(r)*e^(2*nu(r)) dt*dt + r*p(r)/(r - 2*m(r)) dr*dr + r^2*p(r) dth*dth + r^2*p(r)*sin(th)^2 dph*dph"
      ]
     },
     "execution_count": 13,
     "metadata": {},
     "output_type": "execute_result"
    }
   ],
   "source": [
    "epsilon = function('epsilon')\n",
    "p = function('p')\n",
    "T = (epsilon(r)+p(r))* (u_down * u_down) + p(r) * g\n",
    "T.set_name('T')\n",
    "T.display()"
   ]
  },
  {
   "cell_type": "code",
   "execution_count": 14,
   "metadata": {},
   "outputs": [
    {
     "data": {
      "text/html": [
       "<html><script type=\"math/tex; mode=display\">\\newcommand{\\Bold}[1]{\\mathbf{#1}}\\begin{array}{llcl} T\\left(u,u\\right):& M & \\longrightarrow & \\mathbb{R} \\\\ & \\left(t, r, {\\theta}, {\\phi}\\right) & \\longmapsto & \\epsilon\\left(r\\right) \\end{array}</script></html>"
      ],
      "text/plain": [
       "T(u,u): M --> R\n",
       "   (t, r, th, ph) |--> epsilon(r)"
      ]
     },
     "execution_count": 14,
     "metadata": {},
     "output_type": "execute_result"
    }
   ],
   "source": [
    "T(u,u).display()"
   ]
  },
  {
   "cell_type": "markdown",
   "metadata": {},
   "source": [
    "### Einstein Field Equations\n",
    "\n",
    "$$ G_{ab} = 8\\pi T_{ab}$$\n",
    "Define $E_{ab} := G_{ab} - 8\\pi T_{ab}$, then $E_{ab}=0$."
   ]
  },
  {
   "cell_type": "code",
   "execution_count": 15,
   "metadata": {},
   "outputs": [
    {
     "data": {
      "text/html": [
       "<html><script type=\"math/tex; mode=display\">\\newcommand{\\Bold}[1]{\\mathbf{#1}}\\begin{array}{lcl} E_{ \\, t \\, t }^{ \\phantom{\\, t}\\phantom{\\, t} } & = & -\\frac{2 \\, {\\left(4 \\, \\pi r^{2} \\epsilon\\left(r\\right) e^{\\left(2 \\, \\nu\\left(r\\right)\\right)} - e^{\\left(2 \\, \\nu\\left(r\\right)\\right)} \\frac{\\partial\\,m}{\\partial r}\\right)}}{r^{2}} \\\\ E_{ \\, r \\, r }^{ \\phantom{\\, r}\\phantom{\\, r} } & = & -\\frac{2 \\, {\\left(4 \\, \\pi r^{3} p\\left(r\\right) - {\\left(r^{2} - 2 \\, r m\\left(r\\right)\\right)} \\frac{\\partial\\,\\nu}{\\partial r} + m\\left(r\\right)\\right)}}{r^{3} - 2 \\, r^{2} m\\left(r\\right)} \\\\ E_{ \\, {\\theta} \\, {\\theta} }^{ \\phantom{\\, {\\theta}}\\phantom{\\, {\\theta}} } & = & -\\frac{8 \\, \\pi r^{3} p\\left(r\\right) - {\\left(r^{3} - 2 \\, r^{2} m\\left(r\\right)\\right)} \\left(\\frac{\\partial\\,\\nu}{\\partial r}\\right)^{2} + r \\frac{\\partial\\,m}{\\partial r} + {\\left(r^{2} \\frac{\\partial\\,m}{\\partial r} - r^{2} + r m\\left(r\\right)\\right)} \\frac{\\partial\\,\\nu}{\\partial r} - {\\left(r^{3} - 2 \\, r^{2} m\\left(r\\right)\\right)} \\frac{\\partial^2\\,\\nu}{\\partial r ^ 2} - m\\left(r\\right)}{r} \\\\ E_{ \\, {\\phi} \\, {\\phi} }^{ \\phantom{\\, {\\phi}}\\phantom{\\, {\\phi}} } & = & -\\frac{{\\left(8 \\, \\pi r^{3} p\\left(r\\right) - {\\left(r^{3} - 2 \\, r^{2} m\\left(r\\right)\\right)} \\left(\\frac{\\partial\\,\\nu}{\\partial r}\\right)^{2} + r \\frac{\\partial\\,m}{\\partial r} + {\\left(r^{2} \\frac{\\partial\\,m}{\\partial r} - r^{2} + r m\\left(r\\right)\\right)} \\frac{\\partial\\,\\nu}{\\partial r} - {\\left(r^{3} - 2 \\, r^{2} m\\left(r\\right)\\right)} \\frac{\\partial^2\\,\\nu}{\\partial r ^ 2} - m\\left(r\\right)\\right)} \\sin\\left({\\theta}\\right)^{2}}{r} \\end{array}</script></html>"
      ],
      "text/plain": [
       "E_t,t = -2*(4*pi*r^2*epsilon(r)*e^(2*nu(r)) - e^(2*nu(r))*d(m)/dr)/r^2 \n",
       "E_r,r = -2*(4*pi*r^3*p(r) - (r^2 - 2*r*m(r))*d(nu)/dr + m(r))/(r^3 - 2*r^2*m(r)) \n",
       "E_th,th = -(8*pi*r^3*p(r) - (r^3 - 2*r^2*m(r))*(d(nu)/dr)^2 + r*d(m)/dr + (r^2*d(m)/dr - r^2 + r*m(r))*d(nu)/dr - (r^3 - 2*r^2*m(r))*d^2(nu)/dr^2 - m(r))/r \n",
       "E_ph,ph = -(8*pi*r^3*p(r) - (r^3 - 2*r^2*m(r))*(d(nu)/dr)^2 + r*d(m)/dr + (r^2*d(m)/dr - r^2 + r*m(r))*d(nu)/dr - (r^3 - 2*r^2*m(r))*d^2(nu)/dr^2 - m(r))*sin(th)^2/r "
      ]
     },
     "execution_count": 15,
     "metadata": {},
     "output_type": "execute_result"
    }
   ],
   "source": [
    "E = G - 8*pi*T\n",
    "E.set_name('E')\n",
    "E.display_comp()"
   ]
  },
  {
   "cell_type": "markdown",
   "metadata": {},
   "source": [
    "### tt-component"
   ]
  },
  {
   "cell_type": "code",
   "execution_count": 16,
   "metadata": {},
   "outputs": [
    {
     "data": {
      "text/html": [
       "<html><script type=\"math/tex; mode=display\">\\newcommand{\\Bold}[1]{\\mathbf{#1}}-\\frac{2 \\, {\\left(4 \\, \\pi r^{2} \\epsilon\\left(r\\right) e^{\\left(2 \\, \\nu\\left(r\\right)\\right)} - e^{\\left(2 \\, \\nu\\left(r\\right)\\right)} \\frac{\\partial\\,m}{\\partial r}\\right)}}{r^{2}}</script></html>"
      ],
      "text/plain": [
       "-2*(4*pi*r^2*epsilon(r)*e^(2*nu(r)) - e^(2*nu(r))*d(m)/dr)/r^2"
      ]
     },
     "execution_count": 16,
     "metadata": {},
     "output_type": "execute_result"
    }
   ],
   "source": [
    "E[0,0]"
   ]
  },
  {
   "cell_type": "code",
   "execution_count": 17,
   "metadata": {},
   "outputs": [
    {
     "data": {
      "text/html": [
       "<html><script type=\"math/tex; mode=display\">\\newcommand{\\Bold}[1]{\\mathbf{#1}}\\frac{\\partial}{\\partial r}m\\left(r\\right) = 4 \\, \\pi r^{2} \\epsilon\\left(r\\right)</script></html>"
      ],
      "text/plain": [
       "diff(m(r), r) == 4*pi*r^2*epsilon(r)"
      ]
     },
     "metadata": {},
     "output_type": "display_data"
    }
   ],
   "source": [
    "E00_sol = solve(E[0,0].expr()==0, diff(m(r),r))\n",
    "E00 = E00_sol[0]\n",
    "display(E00)"
   ]
  },
  {
   "cell_type": "markdown",
   "metadata": {},
   "source": [
    "### rr-component"
   ]
  },
  {
   "cell_type": "code",
   "execution_count": 18,
   "metadata": {},
   "outputs": [
    {
     "data": {
      "text/html": [
       "<html><script type=\"math/tex; mode=display\">\\newcommand{\\Bold}[1]{\\mathbf{#1}}-\\frac{2 \\, {\\left(4 \\, \\pi r^{3} p\\left(r\\right) - {\\left(r^{2} - 2 \\, r m\\left(r\\right)\\right)} \\frac{\\partial\\,\\nu}{\\partial r} + m\\left(r\\right)\\right)}}{r^{3} - 2 \\, r^{2} m\\left(r\\right)}</script></html>"
      ],
      "text/plain": [
       "-2*(4*pi*r^3*p(r) - (r^2 - 2*r*m(r))*d(nu)/dr + m(r))/(r^3 - 2*r^2*m(r))"
      ]
     },
     "execution_count": 18,
     "metadata": {},
     "output_type": "execute_result"
    }
   ],
   "source": [
    "E[1,1]"
   ]
  },
  {
   "cell_type": "code",
   "execution_count": 19,
   "metadata": {},
   "outputs": [
    {
     "data": {
      "text/html": [
       "<html><script type=\"math/tex; mode=display\">\\newcommand{\\Bold}[1]{\\mathbf{#1}}\\frac{\\partial}{\\partial r}\\nu\\left(r\\right) = \\frac{4 \\, \\pi r^{3} p\\left(r\\right) + m\\left(r\\right)}{r^{2} - 2 \\, r m\\left(r\\right)}</script></html>"
      ],
      "text/plain": [
       "diff(nu(r), r) == (4*pi*r^3*p(r) + m(r))/(r^2 - 2*r*m(r))"
      ]
     },
     "metadata": {},
     "output_type": "display_data"
    }
   ],
   "source": [
    "E11_sol = solve(E[1,1].expr()==0, diff(nu(r),r))\n",
    "E11 = E11_sol[0]\n",
    "display(E11)"
   ]
  },
  {
   "cell_type": "markdown",
   "metadata": {},
   "source": [
    "### Conservation of stress-energy tensor\n",
    "The stress-energy tensor must satisfy\n",
    "$$ \\nabla_b T^b_{\\ \\, a} = 0$$\n",
    "First construct the tensor $T^b_{\\ \\, a}$ by raising the first index of $T_{ab}$:"
   ]
  },
  {
   "cell_type": "code",
   "execution_count": 20,
   "metadata": {},
   "outputs": [
    {
     "data": {
      "text/html": [
       "<html><script type=\"math/tex; mode=display\">\\newcommand{\\Bold}[1]{\\mathbf{#1}}\\begin{array}{lcl} T_{ \\phantom{\\, t} \\, t }^{ \\, t \\phantom{\\, t} } & = & -\\epsilon\\left(r\\right) \\\\ T_{ \\phantom{\\, r} \\, r }^{ \\, r \\phantom{\\, r} } & = & p\\left(r\\right) \\\\ T_{ \\phantom{\\, {\\theta}} \\, {\\theta} }^{ \\, {\\theta} \\phantom{\\, {\\theta}} } & = & p\\left(r\\right) \\\\ T_{ \\phantom{\\, {\\phi}} \\, {\\phi} }^{ \\, {\\phi} \\phantom{\\, {\\phi}} } & = & p\\left(r\\right) \\end{array}</script></html>"
      ],
      "text/plain": [
       "T^t_t = -epsilon(r) \n",
       "T^r_r = p(r) \n",
       "T^th_th = p(r) \n",
       "T^ph_ph = p(r) "
      ]
     },
     "execution_count": 20,
     "metadata": {},
     "output_type": "execute_result"
    }
   ],
   "source": [
    "Tud = T.up(g, 0)\n",
    "Tud.set_name('T')\n",
    "Tud.display_comp()"
   ]
  },
  {
   "cell_type": "markdown",
   "metadata": {},
   "source": [
    "Then, apply `nabla` to `Tud` to get the tensor $(\\nabla T)^b_{\\ \\, ac}$  = $ \\nabla_c T^b_{\\ \\, a}$"
   ]
  },
  {
   "cell_type": "code",
   "execution_count": 21,
   "metadata": {},
   "outputs": [
    {
     "data": {
      "text/html": [
       "<html><script type=\"math/tex; mode=display\">\\newcommand{\\Bold}[1]{\\mathbf{#1}}\\begin{array}{lcl} \\nabla_{g} T_{ \\phantom{\\, t} \\, t \\, r }^{ \\, t \\phantom{\\, t} \\phantom{\\, r} } & = & -\\frac{\\partial\\,\\epsilon}{\\partial r} \\\\ \\nabla_{g} T_{ \\phantom{\\, t} \\, r \\, t }^{ \\, t \\phantom{\\, r} \\phantom{\\, t} } & = & {\\left(\\epsilon\\left(r\\right) + p\\left(r\\right)\\right)} \\frac{\\partial\\,\\nu}{\\partial r} \\\\ \\nabla_{g} T_{ \\phantom{\\, r} \\, t \\, t }^{ \\, r \\phantom{\\, t} \\phantom{\\, t} } & = & -\\frac{{\\left(r \\epsilon\\left(r\\right) e^{\\left(2 \\, \\nu\\left(r\\right)\\right)} - 2 \\, \\epsilon\\left(r\\right) e^{\\left(2 \\, \\nu\\left(r\\right)\\right)} m\\left(r\\right) + {\\left(r e^{\\left(2 \\, \\nu\\left(r\\right)\\right)} - 2 \\, e^{\\left(2 \\, \\nu\\left(r\\right)\\right)} m\\left(r\\right)\\right)} p\\left(r\\right)\\right)} \\frac{\\partial\\,\\nu}{\\partial r}}{r} \\\\ \\nabla_{g} T_{ \\phantom{\\, r} \\, r \\, r }^{ \\, r \\phantom{\\, r} \\phantom{\\, r} } & = & \\frac{\\partial\\,p}{\\partial r} \\\\ \\nabla_{g} T_{ \\phantom{\\, {\\theta}} \\, {\\theta} \\, r }^{ \\, {\\theta} \\phantom{\\, {\\theta}} \\phantom{\\, r} } & = & \\frac{\\partial\\,p}{\\partial r} \\\\ \\nabla_{g} T_{ \\phantom{\\, {\\phi}} \\, {\\phi} \\, r }^{ \\, {\\phi} \\phantom{\\, {\\phi}} \\phantom{\\, r} } & = & \\frac{\\partial\\,p}{\\partial r} \\end{array}</script></html>"
      ],
      "text/plain": [
       "nabla_g(T)^t_t,r = -d(epsilon)/dr \n",
       "nabla_g(T)^t_r,t = (epsilon(r) + p(r))*d(nu)/dr \n",
       "nabla_g(T)^r_t,t = -(r*epsilon(r)*e^(2*nu(r)) - 2*epsilon(r)*e^(2*nu(r))*m(r) + (r*e^(2*nu(r)) - 2*e^(2*nu(r))*m(r))*p(r))*d(nu)/dr/r \n",
       "nabla_g(T)^r_r,r = d(p)/dr \n",
       "nabla_g(T)^th_th,r = d(p)/dr \n",
       "nabla_g(T)^ph_ph,r = d(p)/dr "
      ]
     },
     "execution_count": 21,
     "metadata": {},
     "output_type": "execute_result"
    }
   ],
   "source": [
    "nablaTud = nabla(Tud)\n",
    "nablaTud.display_comp()"
   ]
  },
  {
   "cell_type": "markdown",
   "metadata": {},
   "source": [
    "The divergence $\\nabla_b T^b_{\\ \\, a}$ is computed as the trace of the tensor $(\\nabla T)^b_{\\ \\, ac}$ on the first index ($b$, position `0`) and last index ($c$, position `2`):"
   ]
  },
  {
   "cell_type": "code",
   "execution_count": 22,
   "metadata": {},
   "outputs": [
    {
     "data": {
      "text/html": [
       "<html><script type=\"math/tex; mode=display\">\\newcommand{\\Bold}[1]{\\mathbf{#1}}\\left[0, {\\left(\\epsilon\\left(r\\right) + p\\left(r\\right)\\right)} \\frac{\\partial\\,\\nu}{\\partial r} + \\frac{\\partial\\,p}{\\partial r}, 0, 0\\right]</script></html>"
      ],
      "text/plain": [
       "[0, (epsilon(r) + p(r))*d(nu)/dr + d(p)/dr, 0, 0]"
      ]
     },
     "execution_count": 22,
     "metadata": {},
     "output_type": "execute_result"
    }
   ],
   "source": [
    "divTd = nablaTud.trace(0,2)\n",
    "divTd[:]"
   ]
  },
  {
   "cell_type": "markdown",
   "metadata": {},
   "source": [
    "The only non trivially vanishing components is "
   ]
  },
  {
   "cell_type": "code",
   "execution_count": 23,
   "metadata": {},
   "outputs": [
    {
     "data": {
      "text/html": [
       "<html><script type=\"math/tex; mode=display\">\\newcommand{\\Bold}[1]{\\mathbf{#1}}{\\left(\\epsilon\\left(r\\right) + p\\left(r\\right)\\right)} \\frac{\\partial\\,\\nu}{\\partial r} + \\frac{\\partial\\,p}{\\partial r}</script></html>"
      ],
      "text/plain": [
       "(epsilon(r) + p(r))*d(nu)/dr + d(p)/dr"
      ]
     },
     "execution_count": 23,
     "metadata": {},
     "output_type": "execute_result"
    }
   ],
   "source": [
    "divTd[1]"
   ]
  },
  {
   "cell_type": "markdown",
   "metadata": {},
   "source": [
    "Hence the energy-momentum conservation equation $\\nabla_b T^b_{\\ \\, a}=0$ reduces to"
   ]
  },
  {
   "cell_type": "code",
   "execution_count": 24,
   "metadata": {},
   "outputs": [
    {
     "data": {
      "text/html": [
       "<html><script type=\"math/tex; mode=display\">\\newcommand{\\Bold}[1]{\\mathbf{#1}}\\frac{\\partial}{\\partial r}p\\left(r\\right) = -{\\left(\\epsilon\\left(r\\right) + p\\left(r\\right)\\right)} \\frac{\\partial}{\\partial r}\\nu\\left(r\\right)</script></html>"
      ],
      "text/plain": [
       "diff(p(r), r) == -(epsilon(r) + p(r))*diff(nu(r), r)"
      ]
     },
     "metadata": {},
     "output_type": "display_data"
    }
   ],
   "source": [
    "nablaTud_sol = solve(divTd[1].expr()==0, diff(p(r),r))\n",
    "nablaTud = nablaTud_sol[0]\n",
    "display(nablaTud)"
   ]
  },
  {
   "cell_type": "markdown",
   "metadata": {},
   "source": [
    "### The TOV system\n",
    "\n",
    "The independent equations obtained are"
   ]
  },
  {
   "cell_type": "code",
   "execution_count": 25,
   "metadata": {},
   "outputs": [
    {
     "data": {
      "text/html": [
       "<html><script type=\"math/tex; mode=display\">\\newcommand{\\Bold}[1]{\\mathbf{#1}}\\frac{\\partial}{\\partial r}m\\left(r\\right) = 4 \\, \\pi r^{2} \\epsilon\\left(r\\right)</script></html>"
      ],
      "text/plain": [
       "diff(m(r), r) == 4*pi*r^2*epsilon(r)"
      ]
     },
     "metadata": {},
     "output_type": "display_data"
    },
    {
     "data": {
      "text/html": [
       "<html><script type=\"math/tex; mode=display\">\\newcommand{\\Bold}[1]{\\mathbf{#1}}\\frac{\\partial}{\\partial r}\\nu\\left(r\\right) = \\frac{4 \\, \\pi r^{3} p\\left(r\\right) + m\\left(r\\right)}{r^{2} - 2 \\, r m\\left(r\\right)}</script></html>"
      ],
      "text/plain": [
       "diff(nu(r), r) == (4*pi*r^3*p(r) + m(r))/(r^2 - 2*r*m(r))"
      ]
     },
     "metadata": {},
     "output_type": "display_data"
    },
    {
     "data": {
      "text/html": [
       "<html><script type=\"math/tex; mode=display\">\\newcommand{\\Bold}[1]{\\mathbf{#1}}\\frac{\\partial}{\\partial r}p\\left(r\\right) = -{\\left(\\epsilon\\left(r\\right) + p\\left(r\\right)\\right)} \\frac{\\partial}{\\partial r}\\nu\\left(r\\right)</script></html>"
      ],
      "text/plain": [
       "diff(p(r), r) == -(epsilon(r) + p(r))*diff(nu(r), r)"
      ]
     },
     "metadata": {},
     "output_type": "display_data"
    }
   ],
   "source": [
    "for eq in [E00, E11, nablaTud]:\n",
    "    show(eq)"
   ]
  },
  {
   "cell_type": "code",
   "execution_count": null,
   "metadata": {},
   "outputs": [],
   "source": []
  }
 ],
 "metadata": {
  "kernelspec": {
   "display_name": "SageMath 8.6",
   "language": "",
   "name": "sagemath"
  },
  "language_info": {
   "codemirror_mode": {
    "name": "ipython",
    "version": 2
   },
   "file_extension": ".py",
   "mimetype": "text/x-python",
   "name": "python",
   "nbconvert_exporter": "python",
   "pygments_lexer": "ipython2",
   "version": "2.7.15"
  }
 },
 "nbformat": 4,
 "nbformat_minor": 1
}
